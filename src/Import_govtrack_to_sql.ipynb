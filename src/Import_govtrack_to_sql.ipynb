{
 "cells": [
  {
   "cell_type": "code",
   "execution_count": 1,
   "metadata": {
    "collapsed": true
   },
   "outputs": [],
   "source": [
    "import json\n",
    "import igraph\n",
    "import os\n",
    "import re\n",
    "import time\n",
    "import logging\n",
    "import sqlite3\n",
    "import pandas as pd\n",
    "import numpy as np\n",
    "from lxml import objectify"
   ]
  },
  {
   "cell_type": "code",
   "execution_count": 2,
   "metadata": {
    "collapsed": false
   },
   "outputs": [],
   "source": [
    "# structure is this:\n",
    "# -congress term\n",
    "#     -votes\n",
    "#          -year (2 possible)\n",
    "#               -billno (h31 for house, s31 for senate)\n",
    "#                    *data.json\n",
    "#                         result: \"Passed\"\n",
    "#                         bill:\n",
    "#                              congress:\n",
    "#                              number:\n",
    "#                              type:\n",
    "#                         date:\n",
    "#                         requires: \"1/2\"\n",
    "#                         category:\n",
    "#                         session: yyyy\n",
    "#                         type: ?\n",
    "#                         subject: short description\n",
    "#                         number: ?\n",
    "#                         votes:\n",
    "#                              Not_Voting: [{display_name: , party: , ID: , state: }]\n",
    "#                              Nay: ...\n",
    "#                              Present: ...\n",
    "#                              Yay: ...\n",
    "#                         chamber: 'h' or 's'\n",
    "#                         congress: 104\n",
    "#                         question: short description again\n",
    "#                         vote_id: 'h10-104.1995'"
   ]
  },
  {
   "cell_type": "code",
   "execution_count": 2,
   "metadata": {
    "collapsed": true
   },
   "outputs": [],
   "source": [
    "data_dir = \"/home/matt/Datasets/Congress/\"\n",
    "os.chdir(data_dir)"
   ]
  },
  {
   "cell_type": "markdown",
   "metadata": {},
   "source": [
    "# Create and init the db"
   ]
  },
  {
   "cell_type": "code",
   "execution_count": 3,
   "metadata": {
    "collapsed": true
   },
   "outputs": [],
   "source": [
    "output_db = 'congress.db'\n",
    "con = sqlite3.connect(output_db)\n",
    "cur = con.cursor()"
   ]
  },
  {
   "cell_type": "code",
   "execution_count": 5,
   "metadata": {
    "collapsed": false
   },
   "outputs": [
    {
     "name": "stdout",
     "output_type": "stream",
     "text": [
      "['location', 'session', 'roll', 'year', 'quarter', 'month', 'aye', 'nay', 'present', 'nv', 'required', 'result', 'category', 'type', 'question']\n",
      "['location', 'session', 'roll', 'year']\n"
     ]
    }
   ],
   "source": [
    "bill_schema = ['location', 'TEXT',\n",
    "               'session', 'INTEGER',\n",
    "               'roll', 'INTEGER',\n",
    "               'year', 'INTEGER',\n",
    "               'quarter', 'INTEGER',\n",
    "               'month', 'INTEGER',\n",
    "               'aye', 'INTEGER',\n",
    "               'nay', 'INTEGER',\n",
    "               'present', 'INTEGER',\n",
    "               'nv','INTEGER',\n",
    "               'required','TEXT',\n",
    "               'result','TEXT',\n",
    "               'category','TEXT',\n",
    "               'type','TEXT',\n",
    "               'question','TEXT']\n",
    "bill_fields = bill_schema[0::2]\n",
    "bill_keys = bill_fields[0:4]\n",
    "print(bill_fields)\n",
    "print(bill_keys)"
   ]
  },
  {
   "cell_type": "code",
   "execution_count": 6,
   "metadata": {
    "collapsed": false
   },
   "outputs": [
    {
     "name": "stdout",
     "output_type": "stream",
     "text": [
      "['location', 'session', 'roll', 'year', 'quarter', 'month', 'id', 'vote', 'value', 'state']\n",
      "['location', 'session', 'roll', 'year', 'id']\n"
     ]
    }
   ],
   "source": [
    "vote_schema = ['location','TEXT',\n",
    "               'session','INTEGER',\n",
    "               'roll','INTEGER',\n",
    "               'year','INTEGER',\n",
    "               'quarter', 'INTEGER',\n",
    "               'month', 'INTEGER',\n",
    "               'id','TEXT',\n",
    "               'vote','TEXT',\n",
    "               'value','TEXT',\n",
    "               'state','TEXT']\n",
    "vote_fields = vote_schema[0::2]\n",
    "vote_keys = vote_fields[0:4] + vote_fields[6:7]\n",
    "print(vote_fields)\n",
    "print(vote_keys)"
   ]
  },
  {
   "cell_type": "code",
   "execution_count": 7,
   "metadata": {
    "collapsed": true
   },
   "outputs": [],
   "source": [
    "bills_command = (\n",
    "   \"create table bills (\"+\n",
    "    \"{} {}, \"*len(bill_fields)+\n",
    "    \"PRIMARY KEY (\"+\n",
    "    ','.join(bill_keys)+\n",
    "    \") )\").format(*bill_schema)\n",
    "votes_command = (\n",
    "   \"create table votes (\"+\n",
    "    \"{} {}, \"*len(vote_fields)+\n",
    "    \"PRIMARY KEY (\"+\n",
    "    ','.join(vote_keys)+\n",
    "    \") )\").format(*vote_schema)"
   ]
  },
  {
   "cell_type": "code",
   "execution_count": 8,
   "metadata": {
    "collapsed": false
   },
   "outputs": [
    {
     "name": "stdout",
     "output_type": "stream",
     "text": [
      "create table votes (location TEXT, session INTEGER, roll INTEGER, year INTEGER, quarter INTEGER, month INTEGER, id TEXT, vote TEXT, value TEXT, state TEXT, PRIMARY KEY (location,session,roll,year,id) )\n",
      "create table bills (location TEXT, session INTEGER, roll INTEGER, year INTEGER, quarter INTEGER, month INTEGER, aye INTEGER, nay INTEGER, present INTEGER, nv INTEGER, required TEXT, result TEXT, category TEXT, type TEXT, question TEXT, PRIMARY KEY (location,session,roll,year) )\n"
     ]
    }
   ],
   "source": [
    "print(votes_command)\n",
    "print(bills_command)"
   ]
  },
  {
   "cell_type": "code",
   "execution_count": 9,
   "metadata": {
    "collapsed": false
   },
   "outputs": [],
   "source": [
    "cur.execute(votes_command)\n",
    "cur.execute(bills_command)\n",
    "con.commit()"
   ]
  },
  {
   "cell_type": "markdown",
   "metadata": {},
   "source": [
    "# Read the data to the db"
   ]
  },
  {
   "cell_type": "code",
   "execution_count": 10,
   "metadata": {
    "collapsed": true
   },
   "outputs": [],
   "source": [
    "# all the data will come from here\n",
    "os.chdir('congress')"
   ]
  },
  {
   "cell_type": "markdown",
   "metadata": {},
   "source": [
    "### regexes we'll need"
   ]
  },
  {
   "cell_type": "code",
   "execution_count": 11,
   "metadata": {
    "collapsed": false
   },
   "outputs": [],
   "source": [
    "congress_num = re.compile('[0-9]{1,3}')\n",
    "congress_bill = re.compile('(s|h)[0-9]{1,5}')\n",
    "date_regex = re.compile(r'([0-9]{4}(-|/)[0-9]{1,2}\\2[0-9]{1,2})')"
   ]
  },
  {
   "cell_type": "markdown",
   "metadata": {},
   "source": [
    "### functions we'll need"
   ]
  },
  {
   "cell_type": "code",
   "execution_count": 17,
   "metadata": {
    "collapsed": true
   },
   "outputs": [],
   "source": [
    "def insert_rows(cur,table,data,fields,how='ignore'):\n",
    "    command = (\"insert or {} into {} VALUES (\"+','.join([\"?\"]*len(fields))+\")\").format(how,table)\n",
    "    cur.executemany(command,data)\n",
    "\n",
    "def get_bill_data(root):\n",
    "    datetime = pd.to_datetime(root.attrib['datetime'])\n",
    "    year = int(datetime.year)\n",
    "    quarter = 4*year+int(datetime.quarter)\n",
    "    month = 12*year+int(datetime.month)\n",
    "    \n",
    "    counts = [int(get_attr(root,kind,0)) for kind in ['aye','nay','present','nv']]\n",
    "    text_attrs = [get_node_text(root,tag,'') for tag in ['required','result','category','type','question']]\n",
    "    \n",
    "    return [root.attrib['where'],int(root.attrib['session']),int(root.attrib['roll']),\n",
    "            year, quarter, month] + counts + text_attrs\n",
    "    \n",
    "def get_attr(obj,attr,default):\n",
    "    return obj.attrib.get(attr,default)\n",
    "\n",
    "def get_node_text(obj,tag,default):\n",
    "    return obj.__dict__.get(tag,objectify.StringElement(default)).text\n",
    "    "
   ]
  },
  {
   "cell_type": "markdown",
   "metadata": {},
   "source": [
    "### This shows that every bill has an xml; we'll use these because the json is a mess"
   ]
  },
  {
   "cell_type": "code",
   "execution_count": 14,
   "metadata": {
    "collapsed": true
   },
   "outputs": [],
   "source": [
    "congresses = sorted([name for name in os.listdir() if re.match(congress_num,name)],key=lambda s: int(s))\n",
    "\n",
    "# should be no output if every bill has an xml file\n",
    "for congress in congresses:\n",
    "    vote_dir = os.path.join(congress,'votes')\n",
    "    years = sorted(os.listdir(vote_dir))\n",
    "    \n",
    "    for year in years:\n",
    "        bills = os.listdir(os.path.join(vote_dir,year))\n",
    "        bills = sorted([num for num in bills if re.match(congress_bill,num)])\n",
    "        \n",
    "        for bill in bills:\n",
    "            bill_dir = os.path.join(vote_dir,year,bill)\n",
    "            files = os.listdir(bill_dir)\n",
    "            files = [ file for file in files if file.endswith('.xml')]\n",
    "            if len(files)==0:\n",
    "                print(bill_dir)"
   ]
  },
  {
   "cell_type": "markdown",
   "metadata": {},
   "source": [
    "## Loop through the bills and store them with the votes"
   ]
  },
  {
   "cell_type": "code",
   "execution_count": 18,
   "metadata": {
    "collapsed": false,
    "scrolled": true
   },
   "outputs": [
    {
     "name": "stdout",
     "output_type": "stream",
     "text": [
      "congress 1 completed\n",
      "congress 2 completed\n",
      "congress 3 completed\n",
      "congress 4 completed\n",
      "congress 5 completed\n",
      "congress 6 completed\n",
      "congress 7 completed\n",
      "congress 8 completed\n",
      "congress 9 completed\n",
      "congress 10 completed\n",
      "['senate', 11, 126, 1811, 7245, 21733, 23, 7, 0, 4, 'unknown', 'unknown', 'unknown', 'On Passage', 'TO PASS THE SENATE BILL, AS AMENDED, AND APPROPRIATE $100,000 THEREFORE.']\n",
      "('senate', 11, 126, 1811, 7245, 21733, '411899', '+', 'Yea', 'OH')\n",
      "congress 11 completed\n",
      "congress 12 completed\n",
      "congress 13 completed\n",
      "congress 14 completed\n",
      "congress 15 completed\n",
      "congress 16 completed\n",
      "congress 17 completed\n",
      "congress 18 completed\n",
      "congress 19 completed\n",
      "congress 20 completed\n",
      "congress 21 completed\n",
      "congress 22 completed\n",
      "['house', 23, 27, 1834, 7337, 22010, 107, 88, 0, 41, 'unknown', 'unknown', 'unknown', 'TO TABLE THE RESOLUTION PROVIDING THAT THE COMMITTEE ON INDIAN AFFAIRS BE INSTRUCTED TO INQUIRE WHETHER THE PROVISIONS OF THE TREATY OF MARCH 1832, WITH THE CREEK TRIBE OF INDIANS, IN ALABAMA, BE INCONSISTENT WITH THE SOVEREIGN RIGHT OF JURISDICTION OF SAID STATE WITHIN ITS LIMITS, AND WHETHER THE EXECUTION OF THE TREATY CONFLICTS WITH LAWS OF SAID STATE.  (P. 175-3).', 'TO TABLE THE RESOLUTION PROVIDING THAT THE COMMITTEE ON INDIAN AFFAIRS BE INSTRUCTED TO INQUIRE WHETHER THE PROVISIONS OF THE TREATY OF MARCH 1832, WITH THE CREEK TRIBE OF INDIANS, IN ALABAMA, BE INCONSISTENT WITH THE SOVEREIGN RIGHT OF JURISDICTION OF SAID STATE WITHIN ITS LIMITS, AND WHETHER THE EXECUTION OF THE TREATY CONFLICTS WITH LAWS OF SAID STATE.  (P. 175-3).']\n",
      "('house', 23, 27, 1834, 7337, 22010, '401280', '0', 'Not Voting', 'PA')\n",
      "congress 23 completed\n",
      "congress 24 completed\n",
      "congress 25 completed\n",
      "['house', 26, 114, 1840, 7361, 22082, 0, 0, 0, 60, 'unknown', 'unknown', 'unknown', 'TO ELECT A CHAPLAIN.', 'TO ELECT A CHAPLAIN.']\n",
      "('house', 26, 114, 1840, 7361, 22082, '409809', 'BRAXTON', 'BRAXTON', 'NH')\n",
      "congress 26 completed\n",
      "congress 27 completed\n",
      "congress 28 completed\n",
      "congress 29 completed\n",
      "congress 30 completed\n",
      "congress 31 completed\n",
      "congress 32 completed\n",
      "congress 33 completed\n",
      "congress 34 completed\n",
      "['house', 35, 416, 1859, 7437, 22309, 86, 85, 0, 65, 'unknown', 'unknown', 'unknown', 'TO SUSPEND RULES IN ORDER TO MOVE THAT COMM. OF THE WHOLE HOUSE BE DISCHARGED FROM FURTHER CONSIDERATION OF H.R. 348, BILL TO PROVIDE FOR RELIEF OF EDWIN M. CHAFFEE, INVENTOR OF PROCESS TO GRIND RATHER THAN DISSOLVE RAW MATERIALS USED IN MANUFACTURE OF INDIA RUBBER GOODS.  (P. 699).', 'TO SUSPEND RULES IN ORDER TO MOVE THAT COMM. OF THE WHOLE HOUSE BE DISCHARGED FROM FURTHER CONSIDERATION OF H.R. 348, BILL TO PROVIDE FOR RELIEF OF EDWIN M. CHAFFEE, INVENTOR OF PROCESS TO GRIND RATHER THAN DISSOLVE RAW MATERIALS USED IN MANUFACTURE OF INDIA RUBBER GOODS.  (P. 699).']\n",
      "('house', 35, 416, 1859, 7437, 22309, '405649', '0', 'Not Voting', 'OH')\n",
      "congress 35 completed\n",
      "['senate', 36, 327, 1860, 7442, 22326, 17, 23, 0, 25, 'unknown', 'unknown', 'unknown', 'On the Amendment', \"TO AMEND H.R. 304, BY STRIKING OUT SECTION 2, WHICH AUTHORIZES THE POSTMASTER GENERAL TO AGREE WITH THE CONTRACTORS ON ROUTE 12578, FROM ST. LOUIS TO SAN FRANCISCO, FOR SUCH MODIFICATION OF THEIR CONTRACT, SO AS TO CARRY THE MAIL FROM VICKSBURG OR NEW ORLEANS, INSTEAD OF ST. LOUIS, AND PROVIDING FOR A TRI-WEEKLY SERVICE IN 20 DAYS' TIME, AT THE SAME TRAVEL SUPPLYING INTERMEDIATE OFFICERS ON THE ROUTE WITHOUT ADDITIONAL COST TO THE GOVERNMENT.  (P. 3147-2).\"]\n",
      "('senate', 36, 327, 1860, 7442, 22326, '404883', '-', 'Nay', 'CA')\n",
      "congress 36 completed\n",
      "['senate', 37, 560, 1862, 7452, 22356, 26, 14, 0, 7, 'unknown', 'unknown', 'unknown', 'On Passage', 'TO PASS THE HOUSE CONCURRENT RESOLUTION, AS AMENDED, WHICH PROVIDES THAT WHEN THE TWO HOUSES ADJOURN TODAY, THEY MEET AGAIN ON THE FIRST MONDAY IN JANUARY NEXT.  (P. 170-3).']\n",
      "('senate', 37, 560, 1862, 7452, 22356, '411739', '-', 'Nay', 'MA')\n",
      "['house', 37, 569, 1863, 7453, 22358, 57, 101, 0, 21, 'unknown', 'unknown', 'unknown', 'On the Amendment', 'TO AMEND S. 511 BY STRIKING OUT FROM SECTION 25 THE PROVI- SIONS FOR ARREST.  (P.1291-2).']\n",
      "('house', 37, 569, 1863, 7453, 22358, '403481', '-', 'Nay', 'NY')\n",
      "congress 37 completed\n",
      "congress 38 completed\n",
      "congress 39 completed\n",
      "congress 40 completed\n",
      "['senate', 41, 102, 1870, 7481, 22441, 23, 35, 0, 7, 'unknown', 'unknown', 'unknown', 'On the Amendment', 'TO AMEND S. J. RES. 85 BY PREDICATING SUCH REPRESENTATION ON AGREEMENT OF THE STATE CONSTITUTION WITH THE PROPOSED 15TH AMENDMENT OF THE UNITED STATES CONSTITUTION, GRANTING EQUAL VOTING RIGHTS TO WHITE AND COLORED CITIZENS. (P. 463-1).']\n",
      "('senate', 41, 102, 1870, 7481, 22441, '402398', '0', 'Not Voting', 'NJ')\n",
      "congress 41 completed\n",
      "congress 42 completed\n",
      "congress 43 completed\n",
      "congress 44 completed\n",
      "congress 45 completed\n",
      "congress 46 completed\n",
      "['house', 47, 180, 1882, 7530, 22589, 149, 2, 0, 140, 'unknown', 'unknown', 'unknown', 'TO PROCEED TO THE CONSIDERATION OF THE CONTESTED ELECTION CASE OF HORATIO BISBEE, JR. VS. JESSE J. FENLEY FROM SECOND DISTRICT OF FLORIDA.  (P. 4401-1).', 'TO PROCEED TO THE CONSIDERATION OF THE CONTESTED ELECTION CASE OF HORATIO BISBEE, JR. VS. JESSE J. FENLEY FROM SECOND DISTRICT OF FLORIDA.  (P. 4401-1).']\n",
      "('house', 47, 180, 1882, 7530, 22589, '409515', '+', 'Yea', 'KS')\n",
      "['senate', 47, 376, 1882, 7530, 22589, 39, 14, 0, 23, 'unknown', 'unknown', 'unknown', 'TO AGREE TO AN AMENDMENT TO S. 420 PROVIDING THAT NO CIRCUIT OR DISTRICT COURT JUDGE PRESIDING IN A MATTER OR CASE SHALL BE ELIGIBLE TO SIT IN THE APPEAL OF THE SAME TRIAL OR HEARING.  (P. 3596).', 'TO AGREE TO AN AMENDMENT TO S. 420 PROVIDING THAT NO CIRCUIT OR DISTRICT COURT JUDGE PRESIDING IN A MATTER OR CASE SHALL BE ELIGIBLE TO SIT IN THE APPEAL OF THE SAME TRIAL OR HEARING.  (P. 3596).']\n",
      "('senate', 47, 376, 1882, 7530, 22589, '409588', '+', 'Yea', 'NE')\n",
      "congress 47 completed\n",
      "congress 48 completed\n",
      "congress 49 completed\n",
      "congress 50 completed\n",
      "congress 51 completed\n",
      "congress 52 completed\n",
      "congress 53 completed\n",
      "congress 54 completed\n",
      "congress 55 completed\n",
      "congress 56 completed\n",
      "congress 57 completed\n",
      "congress 58 completed\n",
      "congress 59 completed\n",
      "congress 60 completed\n",
      "congress 61 completed\n",
      "congress 62 completed\n",
      "['house', 63, 94, 1914, 7657, 22971, 303, 3, 4, 125, 'unknown', 'unknown', 'unknown', 'On Passage', 'TO PASS H. R. 1933, A BILL TO LIMIT THE EFFECT OF THE REGU- LATION OF INTERSTATE COMMERCE BETWEEN THE STATES IN GOODS, WARES, AND MERCHANDISE WHOLLY OR IN PART MANUFACTURED, MINED OR PRODUCED BY CONVICT LABOR OR IN ANY PRISON REFORMATORY. (P.4302-2).']\n",
      "('house', 63, 94, 1914, 7657, 22971, '409367', '+', 'Yea', 'MA')\n",
      "congress 63 completed\n",
      "congress 64 completed\n",
      "congress 65 completed\n",
      "congress 66 completed\n",
      "congress 67 completed\n",
      "congress 68 completed\n",
      "congress 69 completed\n",
      "congress 70 completed\n",
      "congress 71 completed\n",
      "congress 72 completed\n",
      "congress 73 completed\n",
      "congress 74 completed\n",
      "congress 75 completed\n",
      "congress 76 completed\n",
      "congress 77 completed\n",
      "congress 78 completed\n",
      "congress 79 completed\n",
      "congress 80 completed\n",
      "['senate', 81, 430, 1950, 7803, 23409, 40, 33, 31, 5, 'unknown', 'unknown', 'unknown', 'S 4037.  FULBRIGHT AMEND. ELIMINATING PROVISION FOR THE ESTABLISHMENT IN THE STATE DEPT. OF A BUREAU OF PASSPORTS AND VISAS.', 'S 4037.  FULBRIGHT AMEND. ELIMINATING PROVISION FOR THE ESTABLISHMENT IN THE STATE DEPT. OF A BUREAU OF PASSPORTS AND VISAS.']\n",
      "('senate', 81, 430, 1950, 7803, 23409, '401851', 'P', 'Present', 'NC')\n",
      "congress 81 completed\n",
      "congress 82 completed\n",
      "congress 83 completed\n",
      "['senate', 84, 206, 1956, 7827, 23479, 50, 39, 1, 6, 'unknown', 'Agreed To', 'unknown', 'HR. 12130.  FOREIGN AID APPROPRIATIONS.  COMMITTEE AMENDMENT TO INCREASE MILITARY ASSISTANCE FROM $1.7 TO $2.3 BILLION.', 'HR. 12130.  FOREIGN AID APPROPRIATIONS.  COMMITTEE AMENDMENT TO INCREASE MILITARY ASSISTANCE FROM $1.7 TO $2.3 BILLION.']\n",
      "('senate', 84, 206, 1956, 7827, 23479, '407749', '+', 'Yea', 'CO')\n",
      "congress 84 completed\n",
      "congress 85 completed\n",
      "congress 86 completed\n",
      "congress 87 completed\n",
      "congress 88 completed\n",
      "congress 89 completed\n",
      "congress 90 completed\n",
      "congress 91 completed\n",
      "['house', 92, 157, 1971, 7887, 23660, 370, 4, 0, 59, 'unknown', 'unknown', 'unknown', 'TO ADOPT H. CON. RES. 370, EXPRESSING THE SENSE OF CONGRESS RELATIVE TO CERTAIN ACTIVITIES OF PUBLIC HEALTH SERVICE HOSPITALS, CLINICS, AND RESEARCH CENTERS.', 'TO ADOPT H. CON. RES. 370, EXPRESSING THE SENSE OF CONGRESS RELATIVE TO CERTAIN ACTIVITIES OF PUBLIC HEALTH SERVICE HOSPITALS, CLINICS, AND RESEARCH CENTERS.']\n",
      "('house', 92, 157, 1971, 7887, 23660, '410493', '+', 'Yea', 'KY')\n",
      "congress 92 completed\n",
      "['senate', 93, 403, 1973, 7895, 23685, 82, 4, 0, 14, 'unknown', 'unknown', 'unknown', 'On Passage', 'TO PASS H.R. 9639.']\n",
      "('senate', 93, 403, 1973, 7895, 23685, '407451', '+', 'Yea', 'SD')\n",
      "['house', 93, 414, 1973, 7896, 23687, 263, 147, 0, 29, 'unknown', 'unknown', 'unknown', 'On the Amendment', 'TO AMEND H.R. 11104 BY REDUCING THE INCREASE IN THE DEBT LIMIT BY $2.3 BILLION.']\n",
      "('house', 93, 414, 1973, 7896, 23687, '400949', '+', 'Yea', 'OH')\n",
      "['senate', 93, 663, 1974, 7897, 23691, 54, 33, 0, 14, 'unknown', 'unknown', 'unknown', 'On Passage', 'TO PASS S. 1401.']\n",
      "('senate', 93, 663, 1974, 7897, 23691, '300056', '-', 'Nay', 'HI')\n",
      "['senate', 93, 1020, 1974, 7900, 23698, 41, 39, 0, 21, 'unknown', 'unknown', 'unknown', 'TO RECOMMIT S.3394 TO THE COMMITTEE ON FOREIGN RELATIONS.', 'TO RECOMMIT S.3394 TO THE COMMITTEE ON FOREIGN RELATIONS.']\n",
      "('senate', 93, 1020, 1974, 7900, 23698, '400783', '+', 'Yea', 'AL')\n",
      "congress 93 completed\n",
      "['senate', 94, 119, 1975, 7902, 23704, 24, 61, 0, 14, 'unknown', 'unknown', 'unknown', 'On the Amendment', 'TO AMEND S. 622 SO AS TO PROVIDE COMPENSATION FOR A PRODUCER OR ROYALTY OWNER WHOSE FIELD IS DAMAGED BY OVERPRODUCTION AS A RESULT OF GOVERNMENT ORDER.']\n",
      "('senate', 94, 119, 1975, 7902, 23704, '408123', '-', 'Nay', 'WI')\n",
      "['house', 94, 303, 1975, 7903, 23707, 380, 11, 0, 43, 'unknown', 'unknown', 'unknown', 'TO SUSPEND THE RULES AND PASS H.R. 6971, THE CONSUMER GOODS PRICING ACT OF 1975.', 'TO SUSPEND THE RULES AND PASS H.R. 6971, THE CONSUMER GOODS PRICING ACT OF 1975.']\n",
      "('house', 94, 303, 1975, 7903, 23707, '402727', '+', 'Yea', 'ME')\n",
      "congress 94 completed\n",
      "congress 95 completed\n",
      "['senate', 96, 321, 1979, 7919, 23757, 49, 29, 0, 22, 'unknown', 'unknown', 'unknown', 'On Passage', 'TO PASS H.R. 5369, PROVIDING FOR A COMBINED PERMANENT AND TEMPORARY LIMIT ON THE PUBLIC DEBT OF $879 BILLION THROUGH MAY 31, 1980.  (MOTION PASSED).']\n",
      "('senate', 96, 321, 1979, 7919, 23757, '411979', '-', 'Nay', 'ND')\n",
      "congress 96 completed\n",
      "congress 97 completed\n",
      "congress 98 completed\n",
      "['senate', 99, 269, 1985, 7944, 23830, 53, 43, 0, 4, 'unknown', 'unknown', 'unknown', 'On the Amendment', 'TO AMEND S 1714 BY WHICH THE SECRETARY OF TRANSPORTATION ENSURES THAT THE GREAT LAKE PORTS RECEIVE THE SAME PERCENTAGE OR WEIGHT OF TONNAGE, WHICHEVER AMOUNT IS SMALLER, OF GOVERNMENT DONATED COMMODITIES THAT THEY HAVE AVERAGED OVER THE LAST FIVE YEARS.']\n",
      "('senate', 99, 269, 1985, 7944, 23830, '407355', '-', 'Nay', 'ID')\n",
      "congress 99 completed\n",
      "['senate', 100, 656, 1988, 7955, 23863, 58, 33, 0, 9, 'unknown', 'unknown', 'unknown', 'On the Amendment', 'TO AMEND HR 4776, FISCAL 1989 DISTRICT OF COLUMBIA APPROPRIATIONS, TO EXEMPT LOCAL RELIGIOUS INSTITUTIONS FROM LOCAL LAWS PROHIBITING DISCRIMINATION BASED ON SEXUAL ORIENTATION.']\n",
      "('senate', 100, 656, 1988, 7955, 23863, '408252', '+', 'Yea', 'GA')\n",
      "congress 100 completed\n",
      "['senate', 101, 216, 1990, 7963, 23888, 51, 48, 0, 1, '1/2', 'Motion to Table Agreed to', 'procedural', 'On the Motion to Table S.Amdt. 2522 to S. 2884 (National Defense Authorization Act for Fiscal Year 1991)', 'On the Motion to Table S.Amdt. 2522 to S. 2884 (National Defense Authorization Act for Fiscal Year 1991)']\n",
      "('senate', 101, 216, 1990, 7963, 23888, '409923', '+', 'Yea', 'WY')\n",
      "['senate', 101, 265, 1990, 7964, 23890, 91, 7, 0, 2, '1/2', 'Bill Passed', 'passage', 'On Passage of the Bill', 'On Passage of the Bill H.R. 5021']\n",
      "('senate', 101, 265, 1990, 7964, 23890, '400557', '+', 'Yea', 'NV')\n",
      "congress 101 completed\n",
      "congress 102 completed\n",
      "congress 103 completed\n",
      "congress 104 completed\n",
      "congress 105 completed\n",
      "congress 106 completed\n",
      "congress 107 completed\n",
      "['house', 108, 128, 2003, 8014, 24040, 424, 0, 0, 10, '2/3', 'Passed', 'passage-suspension', 'On Motion to Suspend the Rules and Agree', 'On Motion to Suspend the Rules and Agree: H CON RES 141 Expressing the sense of the Congress that the Internal Revenue Code of 1986 should be fundamentally reformed to be fairer, simpler, and less costly and to encourage economic growth, individual liberty and investment in American jobs.']\n",
      "('house', 108, 128, 2003, 8014, 24040, '400138', '+', 'Yea', 'TN')\n",
      "congress 108 completed\n",
      "congress 109 completed\n",
      "congress 110 completed\n",
      "congress 111 completed\n",
      "['senate', 112, 166, 2011, 8048, 24142, 82, 3, 0, 15, '1/2', 'Nomination Confirmed', 'nomination', 'On the Nomination', 'On the Nomination PN11: Cathy Bissoon, of Pennsylvania, to be United States District Judge for the Western District of Pennsylvania']\n",
      "('senate', 112, 166, 2011, 8048, 24142, '300093', '+', 'Yea', 'MI')\n",
      "['house', 112, 781, 2011, 8048, 24142, 262, 167, 0, 4, '1/2', 'Passed', 'passage', 'On Passage of the Bill', 'On Passage: H R 3078 To implement the United States-Colombia Trade Promotion Agreement']\n",
      "('house', 112, 781, 2011, 8048, 24142, '412270', '+', 'Aye', 'UT')\n",
      "congress 112 completed\n",
      "congress 113 completed\n",
      "congress 114 completed\n"
     ]
    }
   ],
   "source": [
    "congresses = sorted([name for name in os.listdir() if re.match(congress_num,name)],key=lambda s: int(s))\n",
    "\n",
    "#c=0\n",
    "# for every session\n",
    "for congress in congresses:\n",
    "#     c+=1\n",
    "#     if c>2:\n",
    "#         break\n",
    "    \n",
    "    vote_dir = os.path.join(congress,'votes')\n",
    "    years = sorted(os.listdir(vote_dir))\n",
    "    \n",
    "    # for every year of that session\n",
    "    for year in years:\n",
    "        bills = os.listdir(os.path.join(vote_dir,year))\n",
    "        bills = sorted([num for num in bills if re.match(congress_bill,num)], \n",
    "                       key = lambda s: int(s[1:]))\n",
    "        \n",
    "        bill_data = []\n",
    "        # for every bill in that year\n",
    "        for bill in bills:\n",
    "            # list the files in the bill dir and parse the xml\n",
    "            bill_dir = os.path.join(vote_dir,year,bill)\n",
    "            files = os.listdir(bill_dir)\n",
    "            xmlfiles = [file for file in files if file.endswith('.xml')]\n",
    "            \n",
    "            with open(os.path.join(vote_dir,year,bill,xmlfiles[0]), 'r') as infile:\n",
    "                # get the xml object representing all the votes\n",
    "                data = objectify.parse(infile).getroot()\n",
    "                \n",
    "            # get the bill data from the xml object\n",
    "            new_bill = get_bill_data(data)\n",
    "            \n",
    "            # append to the list for that year\n",
    "            bill_data.append(tuple(new_bill))\n",
    "            \n",
    "            # get the vote data from the xml object\n",
    "            voters = data.voter\n",
    "            vote_data = [tuple(new_bill[0:6] + [voter.attrib.get(attr,None) for attr in vote_fields[6:]]) for voter in voters]\n",
    "            \n",
    "            if np.random.rand() > 0.9997:\n",
    "                print(new_bill)\n",
    "                print(vote_data[np.random.randint(0,len(vote_data))])\n",
    "            \n",
    "            # insert the vote data into the db for each bill\n",
    "            insert_rows(cur,'votes',vote_data,vote_fields,'ignore')\n",
    "        \n",
    "        # insert the bill data into the db for each year\n",
    "        insert_rows(cur,'bills',bill_data,bill_fields,'ignore')\n",
    "        \n",
    "        # commit the changes\n",
    "        con.commit()\n",
    "        \n",
    "    print(\"congress {} completed\".format(congress))"
   ]
  },
  {
   "cell_type": "code",
   "execution_count": 19,
   "metadata": {
    "collapsed": false
   },
   "outputs": [
    {
     "data": {
      "text/plain": [
       "[('table',\n",
       "  'votes',\n",
       "  'votes',\n",
       "  2,\n",
       "  'CREATE TABLE votes (location TEXT, session INTEGER, roll INTEGER, year INTEGER, quarter INTEGER, month INTEGER, id TEXT, vote TEXT, value TEXT, state TEXT, PRIMARY KEY (location,session,roll,year,id) )'),\n",
       " ('index', 'sqlite_autoindex_votes_1', 'votes', 3, None),\n",
       " ('table',\n",
       "  'bills',\n",
       "  'bills',\n",
       "  4,\n",
       "  'CREATE TABLE bills (location TEXT, session INTEGER, roll INTEGER, year INTEGER, quarter INTEGER, month INTEGER, aye INTEGER, nay INTEGER, present INTEGER, nv INTEGER, required TEXT, result TEXT, category TEXT, type TEXT, question TEXT, PRIMARY KEY (location,session,roll,year) )'),\n",
       " ('index', 'sqlite_autoindex_bills_1', 'bills', 5, None)]"
      ]
     },
     "execution_count": 19,
     "metadata": {},
     "output_type": "execute_result"
    }
   ],
   "source": [
    "# check the schema\n",
    "cur.execute(\"select * from sqlite_master\").fetchall()"
   ]
  },
  {
   "cell_type": "code",
   "execution_count": 20,
   "metadata": {
    "collapsed": false
   },
   "outputs": [
    {
     "name": "stdout",
     "output_type": "stream",
     "text": [
      "['location', 'session', 'roll', 'year', 'quarter', 'month', 'id', 'vote', 'value', 'state']\n",
      "['location', 'session', 'roll', 'year', 'quarter', 'month', 'aye', 'nay', 'present', 'nv', 'required', 'result', 'category', 'type', 'question']\n"
     ]
    }
   ],
   "source": [
    "print(vote_fields)\n",
    "print(bill_fields)"
   ]
  },
  {
   "cell_type": "code",
   "execution_count": 21,
   "metadata": {
    "collapsed": false
   },
   "outputs": [
    {
     "data": {
      "text/plain": [
       "[('house', 114, 163, 2016, 8066, 24196, '412630', '+', 'Yea', 'LA'),\n",
       " ('house', 114, 163, 2016, 8066, 24196, '400004', '+', 'Yea', 'AL'),\n",
       " ('house', 114, 163, 2016, 8066, 24196, '412615', '+', 'Yea', 'CA'),\n",
       " ('house', 114, 163, 2016, 8066, 24196, '412625', '+', 'Yea', 'GA'),\n",
       " ('house', 114, 163, 2016, 8066, 24196, '412438', '+', 'Yea', 'MI'),\n",
       " ('house', 114, 163, 2016, 8066, 24196, '412642', '+', 'Yea', 'NE'),\n",
       " ('house', 114, 163, 2016, 8066, 24196, '412655', '+', 'Yea', 'TX'),\n",
       " ('house', 114, 163, 2016, 8066, 24196, '412469', '+', 'Yea', 'PA'),\n",
       " ('house', 114, 163, 2016, 8066, 24196, '412541', '+', 'Yea', 'KY'),\n",
       " ('house', 114, 163, 2016, 8066, 24196, '400018', '+', 'Yea', 'TX')]"
      ]
     },
     "execution_count": 21,
     "metadata": {},
     "output_type": "execute_result"
    }
   ],
   "source": [
    "# from the last bill\n",
    "vote_data[0:10]"
   ]
  },
  {
   "cell_type": "code",
   "execution_count": 24,
   "metadata": {
    "collapsed": false
   },
   "outputs": [
    {
     "data": {
      "text/plain": [
       "[('house', 114, 163, 2016, 8066, 24196, '400004', '+', 'Yea', 'AL'),\n",
       " ('house', 114, 163, 2016, 8066, 24196, '400018', '+', 'Yea', 'TX'),\n",
       " ('house', 114, 163, 2016, 8066, 24196, '400021', '-', 'Nay', 'CA'),\n",
       " ('house', 114, 163, 2016, 8066, 24196, '400029', '+', 'Yea', 'UT'),\n",
       " ('house', 114, 163, 2016, 8066, 24196, '400030', '+', 'Yea', 'GA'),\n",
       " ('house', 114, 163, 2016, 8066, 24196, '400032', '+', 'Yea', 'TN'),\n",
       " ('house', 114, 163, 2016, 8066, 24196, '400033', '+', 'Yea', 'OR'),\n",
       " ('house', 114, 163, 2016, 8066, 24196, '400046', '+', 'Yea', 'TX'),\n",
       " ('house', 114, 163, 2016, 8066, 24196, '400047', '-', 'Nay', 'PA'),\n",
       " ('house', 114, 163, 2016, 8066, 24196, '400048', '-', 'Nay', 'FL')]"
      ]
     },
     "execution_count": 24,
     "metadata": {},
     "output_type": "execute_result"
    }
   ],
   "source": [
    "# from the db\n",
    "cur.execute(\"select * from votes where session = 114 and location = 'house' and year = 2016 and roll = 163 limit 10\").fetchall()"
   ]
  },
  {
   "cell_type": "code",
   "execution_count": 25,
   "metadata": {
    "collapsed": false
   },
   "outputs": [
    {
     "data": {
      "text/plain": [
       "23602445"
      ]
     },
     "execution_count": 25,
     "metadata": {},
     "output_type": "execute_result"
    }
   ],
   "source": [
    "len(cur.execute(\"select id from votes\").fetchall())\n",
    "# 23,602,445 votes"
   ]
  },
  {
   "cell_type": "markdown",
   "metadata": {},
   "source": [
    "# Now build the senators table"
   ]
  },
  {
   "cell_type": "markdown",
   "metadata": {},
   "source": [
    "### import the data"
   ]
  },
  {
   "cell_type": "code",
   "execution_count": 26,
   "metadata": {
    "collapsed": false
   },
   "outputs": [
    {
     "name": "stdout",
     "output_type": "stream",
     "text": [
      "(11807, 29)\n",
      "(540, 29)\n",
      "Index(['last_name', 'first_name', 'birthday', 'gender', 'type', 'state',\n",
      "       'district', 'party', 'url', 'address', 'phone', 'contact_form',\n",
      "       'rss_url', 'twitter', 'facebook', 'facebook_id', 'youtube',\n",
      "       'youtube_id', 'bioguide_id', 'thomas_id', 'opensecrets_id', 'lis_id',\n",
      "       'cspan_id', 'govtrack_id', 'votesmart_id', 'ballotpedia_id',\n",
      "       'washington_post_id', 'icpsr_id', 'wikipedia_id'],\n",
      "      dtype='object')\n",
      "Index(['last_name', 'first_name', 'birthday', 'gender', 'type', 'state',\n",
      "       'district', 'party', 'url', 'address', 'phone', 'contact_form',\n",
      "       'rss_url', 'twitter', 'facebook', 'facebook_id', 'youtube',\n",
      "       'youtube_id', 'bioguide_id', 'thomas_id', 'opensecrets_id', 'lis_id',\n",
      "       'cspan_id', 'govtrack_id', 'votesmart_id', 'ballotpedia_id',\n",
      "       'washington_post_id', 'icpsr_id', 'wikipedia_id'],\n",
      "      dtype='object')\n"
     ]
    }
   ],
   "source": [
    "os.chdir('..')\n",
    "os.chdir('congress-legislators')\n",
    "\n",
    "historic_senators = pd.read_csv('legislators-historic.csv')\n",
    "current_senators = pd.read_csv('legislators-current.csv')\n",
    "\n",
    "print(historic_senators.shape)\n",
    "print(current_senators.shape)\n",
    "\n",
    "print(historic_senators.columns)\n",
    "print(current_senators.columns)"
   ]
  },
  {
   "cell_type": "markdown",
   "metadata": {},
   "source": [
    "### combine the historic and current data and add a few columns"
   ]
  },
  {
   "cell_type": "code",
   "execution_count": 27,
   "metadata": {
    "collapsed": false
   },
   "outputs": [
    {
     "data": {
      "text/plain": [
       "(12347, 28)"
      ]
     },
     "execution_count": 27,
     "metadata": {},
     "output_type": "execute_result"
    }
   ],
   "source": [
    "current_senators.set_index('govtrack_id',verify_integrity=True,inplace=True)\n",
    "historic_senators.set_index('govtrack_id',verify_integrity=True,inplace=True)\n",
    "\n",
    "senators = pd.concat([historic_senators,current_senators],axis=0,join='outer',verify_integrity=True)\n",
    "senators.shape"
   ]
  },
  {
   "cell_type": "code",
   "execution_count": 28,
   "metadata": {
    "collapsed": false
   },
   "outputs": [],
   "source": [
    "def year_quarter_month(datetime):\n",
    "    dt = pd.to_datetime(datetime)\n",
    "    return pd.Series([dt.year,4*dt.year+dt.quarter,12*dt.year+dt.month])"
   ]
  },
  {
   "cell_type": "code",
   "execution_count": 29,
   "metadata": {
    "collapsed": false
   },
   "outputs": [
    {
     "data": {
      "text/plain": [
       "(12347, 3)"
      ]
     },
     "execution_count": 29,
     "metadata": {},
     "output_type": "execute_result"
    }
   ],
   "source": [
    "df = senators.birthday.apply(year_quarter_month)\n",
    "df.columns = pd.Index(['birth_year','birth_quarter','birth_month'])\n",
    "\n",
    "df.shape"
   ]
  },
  {
   "cell_type": "code",
   "execution_count": 30,
   "metadata": {
    "collapsed": false
   },
   "outputs": [
    {
     "data": {
      "text/html": [
       "<div>\n",
       "<table border=\"1\" class=\"dataframe\">\n",
       "  <thead>\n",
       "    <tr style=\"text-align: right;\">\n",
       "      <th></th>\n",
       "      <th>last_name</th>\n",
       "      <th>first_name</th>\n",
       "      <th>birthday</th>\n",
       "      <th>gender</th>\n",
       "      <th>type</th>\n",
       "      <th>state</th>\n",
       "      <th>district</th>\n",
       "      <th>party</th>\n",
       "      <th>url</th>\n",
       "      <th>address</th>\n",
       "      <th>...</th>\n",
       "      <th>lis_id</th>\n",
       "      <th>cspan_id</th>\n",
       "      <th>votesmart_id</th>\n",
       "      <th>ballotpedia_id</th>\n",
       "      <th>washington_post_id</th>\n",
       "      <th>icpsr_id</th>\n",
       "      <th>wikipedia_id</th>\n",
       "      <th>birth_year</th>\n",
       "      <th>birth_quarter</th>\n",
       "      <th>birth_month</th>\n",
       "    </tr>\n",
       "    <tr>\n",
       "      <th>govtrack_id</th>\n",
       "      <th></th>\n",
       "      <th></th>\n",
       "      <th></th>\n",
       "      <th></th>\n",
       "      <th></th>\n",
       "      <th></th>\n",
       "      <th></th>\n",
       "      <th></th>\n",
       "      <th></th>\n",
       "      <th></th>\n",
       "      <th></th>\n",
       "      <th></th>\n",
       "      <th></th>\n",
       "      <th></th>\n",
       "      <th></th>\n",
       "      <th></th>\n",
       "      <th></th>\n",
       "      <th></th>\n",
       "      <th></th>\n",
       "      <th></th>\n",
       "      <th></th>\n",
       "    </tr>\n",
       "  </thead>\n",
       "  <tbody>\n",
       "    <tr>\n",
       "      <th>401222</th>\n",
       "      <td>Bassett</td>\n",
       "      <td>Richard</td>\n",
       "      <td>1745-04-02</td>\n",
       "      <td>M</td>\n",
       "      <td>sen</td>\n",
       "      <td>DE</td>\n",
       "      <td>NaN</td>\n",
       "      <td>Anti-Administration</td>\n",
       "      <td>NaN</td>\n",
       "      <td>NaN</td>\n",
       "      <td>...</td>\n",
       "      <td>NaN</td>\n",
       "      <td>NaN</td>\n",
       "      <td>NaN</td>\n",
       "      <td>NaN</td>\n",
       "      <td>NaN</td>\n",
       "      <td>507</td>\n",
       "      <td>NaN</td>\n",
       "      <td>1745</td>\n",
       "      <td>6982</td>\n",
       "      <td>20944</td>\n",
       "    </tr>\n",
       "    <tr>\n",
       "      <th>401521</th>\n",
       "      <td>Bland</td>\n",
       "      <td>Theodorick</td>\n",
       "      <td>1742-03-21</td>\n",
       "      <td>M</td>\n",
       "      <td>rep</td>\n",
       "      <td>VA</td>\n",
       "      <td>9</td>\n",
       "      <td>NaN</td>\n",
       "      <td>NaN</td>\n",
       "      <td>NaN</td>\n",
       "      <td>...</td>\n",
       "      <td>NaN</td>\n",
       "      <td>NaN</td>\n",
       "      <td>NaN</td>\n",
       "      <td>NaN</td>\n",
       "      <td>NaN</td>\n",
       "      <td>786</td>\n",
       "      <td>NaN</td>\n",
       "      <td>1742</td>\n",
       "      <td>6969</td>\n",
       "      <td>20907</td>\n",
       "    </tr>\n",
       "    <tr>\n",
       "      <th>402032</th>\n",
       "      <td>Burke</td>\n",
       "      <td>Aedanus</td>\n",
       "      <td>1743-06-16</td>\n",
       "      <td>M</td>\n",
       "      <td>rep</td>\n",
       "      <td>SC</td>\n",
       "      <td>2</td>\n",
       "      <td>NaN</td>\n",
       "      <td>NaN</td>\n",
       "      <td>NaN</td>\n",
       "      <td>...</td>\n",
       "      <td>NaN</td>\n",
       "      <td>NaN</td>\n",
       "      <td>NaN</td>\n",
       "      <td>NaN</td>\n",
       "      <td>NaN</td>\n",
       "      <td>1260</td>\n",
       "      <td>Aedanus Burke</td>\n",
       "      <td>1743</td>\n",
       "      <td>6974</td>\n",
       "      <td>20922</td>\n",
       "    </tr>\n",
       "    <tr>\n",
       "      <th>402334</th>\n",
       "      <td>Carroll</td>\n",
       "      <td>Daniel</td>\n",
       "      <td>1730-07-22</td>\n",
       "      <td>M</td>\n",
       "      <td>rep</td>\n",
       "      <td>MD</td>\n",
       "      <td>6</td>\n",
       "      <td>NaN</td>\n",
       "      <td>NaN</td>\n",
       "      <td>NaN</td>\n",
       "      <td>...</td>\n",
       "      <td>NaN</td>\n",
       "      <td>NaN</td>\n",
       "      <td>NaN</td>\n",
       "      <td>NaN</td>\n",
       "      <td>NaN</td>\n",
       "      <td>1538</td>\n",
       "      <td>Daniel Carroll</td>\n",
       "      <td>1730</td>\n",
       "      <td>6923</td>\n",
       "      <td>20767</td>\n",
       "    </tr>\n",
       "    <tr>\n",
       "      <th>402671</th>\n",
       "      <td>Clymer</td>\n",
       "      <td>George</td>\n",
       "      <td>1739-03-16</td>\n",
       "      <td>M</td>\n",
       "      <td>rep</td>\n",
       "      <td>PA</td>\n",
       "      <td>-1</td>\n",
       "      <td>NaN</td>\n",
       "      <td>NaN</td>\n",
       "      <td>NaN</td>\n",
       "      <td>...</td>\n",
       "      <td>NaN</td>\n",
       "      <td>NaN</td>\n",
       "      <td>NaN</td>\n",
       "      <td>NaN</td>\n",
       "      <td>NaN</td>\n",
       "      <td>1859</td>\n",
       "      <td>George Clymer</td>\n",
       "      <td>1739</td>\n",
       "      <td>6957</td>\n",
       "      <td>20871</td>\n",
       "    </tr>\n",
       "  </tbody>\n",
       "</table>\n",
       "<p>5 rows × 31 columns</p>\n",
       "</div>"
      ],
      "text/plain": [
       "            last_name  first_name    birthday gender type state  district  \\\n",
       "govtrack_id                                                                 \n",
       "401222        Bassett     Richard  1745-04-02      M  sen    DE       NaN   \n",
       "401521          Bland  Theodorick  1742-03-21      M  rep    VA         9   \n",
       "402032          Burke     Aedanus  1743-06-16      M  rep    SC         2   \n",
       "402334        Carroll      Daniel  1730-07-22      M  rep    MD         6   \n",
       "402671         Clymer      George  1739-03-16      M  rep    PA        -1   \n",
       "\n",
       "                           party  url address     ...      lis_id cspan_id  \\\n",
       "govtrack_id                                       ...                        \n",
       "401222       Anti-Administration  NaN     NaN     ...         NaN      NaN   \n",
       "401521                       NaN  NaN     NaN     ...         NaN      NaN   \n",
       "402032                       NaN  NaN     NaN     ...         NaN      NaN   \n",
       "402334                       NaN  NaN     NaN     ...         NaN      NaN   \n",
       "402671                       NaN  NaN     NaN     ...         NaN      NaN   \n",
       "\n",
       "            votesmart_id ballotpedia_id washington_post_id  icpsr_id  \\\n",
       "govtrack_id                                                            \n",
       "401222               NaN            NaN                NaN       507   \n",
       "401521               NaN            NaN                NaN       786   \n",
       "402032               NaN            NaN                NaN      1260   \n",
       "402334               NaN            NaN                NaN      1538   \n",
       "402671               NaN            NaN                NaN      1859   \n",
       "\n",
       "               wikipedia_id birth_year birth_quarter  birth_month  \n",
       "govtrack_id                                                        \n",
       "401222                  NaN       1745          6982        20944  \n",
       "401521                  NaN       1742          6969        20907  \n",
       "402032        Aedanus Burke       1743          6974        20922  \n",
       "402334       Daniel Carroll       1730          6923        20767  \n",
       "402671        George Clymer       1739          6957        20871  \n",
       "\n",
       "[5 rows x 31 columns]"
      ]
     },
     "execution_count": 30,
     "metadata": {},
     "output_type": "execute_result"
    }
   ],
   "source": [
    "senators = pd.concat([senators,df],axis=1,join='outer')\n",
    "senators.head(5)"
   ]
  },
  {
   "cell_type": "code",
   "execution_count": 31,
   "metadata": {
    "collapsed": false
   },
   "outputs": [
    {
     "data": {
      "text/plain": [
       "(12347, 31)"
      ]
     },
     "execution_count": 31,
     "metadata": {},
     "output_type": "execute_result"
    }
   ],
   "source": [
    "senators.shape"
   ]
  },
  {
   "cell_type": "markdown",
   "metadata": {},
   "source": [
    "### The database schema and create command"
   ]
  },
  {
   "cell_type": "code",
   "execution_count": 32,
   "metadata": {
    "collapsed": false
   },
   "outputs": [
    {
     "name": "stdout",
     "output_type": "stream",
     "text": [
      "['id', 'first_name', 'last_name', 'state', 'district', 'party', 'birthday', 'birth_year', 'birth_quarter', 'birth_month', 'url', 'twitter', 'facebook', 'facebook_id', 'youtube', 'youtube_id', 'opensecrets_id', 'wikipedia_id', 'washington_post_id']\n",
      "['id']\n",
      "['TEXT', 'TEXT', 'TEXT', 'TEXT', 'TEXT', 'TEXT', 'TEXT', 'INTEGER', 'INTEGER', 'INTEGER', 'TEXT', 'TEXT', 'TEXT', 'TEXT', 'TEXT', 'TEXT', 'TEXT', 'TEXT', 'TEXT']\n"
     ]
    }
   ],
   "source": [
    "senator_schema = ['id','TEXT','first_name','TEXT','last_name','TEXT',\n",
    "                  'state','TEXT','district','TEXT','party','TEXT',\n",
    "                  'birthday','TEXT','birth_year','INTEGER','birth_quarter','INTEGER','birth_month','INTEGER',\n",
    "                  'url','TEXT','twitter','TEXT','facebook','TEXT','facebook_id','TEXT',\n",
    "                  'youtube','TEXT','youtube_id','TEXT',\n",
    "                  'opensecrets_id','TEXT','wikipedia_id','TEXT','washington_post_id','TEXT']\n",
    "senator_fields = senator_schema[0::2]\n",
    "senator_keys = senator_schema[0:1]\n",
    "senator_types = senator_schema[1::2]\n",
    "print(senator_fields)\n",
    "print(senator_keys)\n",
    "print(senator_types)"
   ]
  },
  {
   "cell_type": "code",
   "execution_count": 33,
   "metadata": {
    "collapsed": false
   },
   "outputs": [
    {
     "name": "stdout",
     "output_type": "stream",
     "text": [
      "create table senators (id TEXT, first_name TEXT, last_name TEXT, state TEXT, district TEXT, party TEXT, birthday TEXT, birth_year INTEGER, birth_quarter INTEGER, birth_month INTEGER, url TEXT, twitter TEXT, facebook TEXT, facebook_id TEXT, youtube TEXT, youtube_id TEXT, opensecrets_id TEXT, wikipedia_id TEXT, washington_post_id TEXT, PRIMARY KEY (id) )\n"
     ]
    }
   ],
   "source": [
    "senators_command = (\n",
    "    \"create table senators (\"+\n",
    "    \"{} {}, \"*len(senator_fields)+\n",
    "    \"PRIMARY KEY (\"+\n",
    "    ','.join(senator_keys)+\n",
    "    \") )\").format(*senator_schema)\n",
    "print(senators_command)"
   ]
  },
  {
   "cell_type": "markdown",
   "metadata": {},
   "source": [
    "### Subset on the columns we want in the db"
   ]
  },
  {
   "cell_type": "code",
   "execution_count": 34,
   "metadata": {
    "collapsed": false
   },
   "outputs": [
    {
     "name": "stdout",
     "output_type": "stream",
     "text": [
      "(12347, 32)\n",
      "Index(['last_name', 'first_name', 'birthday', 'gender', 'type', 'state',\n",
      "       'district', 'party', 'url', 'address', 'phone', 'contact_form',\n",
      "       'rss_url', 'twitter', 'facebook', 'facebook_id', 'youtube',\n",
      "       'youtube_id', 'bioguide_id', 'thomas_id', 'opensecrets_id', 'lis_id',\n",
      "       'cspan_id', 'votesmart_id', 'ballotpedia_id', 'washington_post_id',\n",
      "       'icpsr_id', 'wikipedia_id', 'birth_year', 'birth_quarter',\n",
      "       'birth_month', 'id'],\n",
      "      dtype='object')\n"
     ]
    }
   ],
   "source": [
    "senators['id'] = senators.index\n",
    "print(senators.shape)\n",
    "print(senators.columns)"
   ]
  },
  {
   "cell_type": "code",
   "execution_count": 35,
   "metadata": {
    "collapsed": false
   },
   "outputs": [],
   "source": [
    "# The columns we want to keep\n",
    "senators = senators[senator_fields]"
   ]
  },
  {
   "cell_type": "markdown",
   "metadata": {},
   "source": [
    "### Put it all in the db"
   ]
  },
  {
   "cell_type": "code",
   "execution_count": 36,
   "metadata": {
    "collapsed": true
   },
   "outputs": [],
   "source": [
    "def type_or_null(i,datatype):\n",
    "    if pd.isnull(i):\n",
    "        return None\n",
    "    else:\n",
    "        return datatype(i)\n",
    "\n",
    "typedict = {'TEXT':str,'INTEGER':int}"
   ]
  },
  {
   "cell_type": "code",
   "execution_count": 37,
   "metadata": {
    "collapsed": false
   },
   "outputs": [],
   "source": [
    "data = []\n",
    "for index in senators.index:\n",
    "    row = senators.loc[index,]\n",
    "    row_data = []\n",
    "    for i in range(len(row)):\n",
    "        row_data.append(type_or_null(row.iloc[i],typedict[senator_types[i]]))\n",
    "    data.append(tuple(row_data))"
   ]
  },
  {
   "cell_type": "code",
   "execution_count": 38,
   "metadata": {
    "collapsed": false
   },
   "outputs": [
    {
     "name": "stdout",
     "output_type": "stream",
     "text": [
      "12347\n",
      "19\n",
      "19\n"
     ]
    }
   ],
   "source": [
    "print(len(data))\n",
    "print(len(data[0]))\n",
    "print(len(senator_fields))"
   ]
  },
  {
   "cell_type": "code",
   "execution_count": 39,
   "metadata": {
    "collapsed": true
   },
   "outputs": [],
   "source": [
    "cur.execute(senators_command)\n",
    "con.commit()\n",
    "\n",
    "insert_rows(cur,'senators',data,senator_fields)\n",
    "con.commit()"
   ]
  },
  {
   "cell_type": "code",
   "execution_count": 40,
   "metadata": {
    "collapsed": false
   },
   "outputs": [
    {
     "name": "stdout",
     "output_type": "stream",
     "text": [
      "12347\n"
     ]
    }
   ],
   "source": [
    "print(len(cur.execute('select youtube from senators').fetchall()))"
   ]
  },
  {
   "cell_type": "code",
   "execution_count": 41,
   "metadata": {
    "collapsed": false
   },
   "outputs": [
    {
     "data": {
      "text/plain": [
       "array([1, 1, 1, 1, 1, 1, 1, 1, 1, 1, 1, 1, 1, 1, 1, 1, 1, 1, 1, 1, 1, 1, 1,\n",
       "       1, 1, 1, 1, 1, 1, 1, 1, 1, 1, 1, 1, 1, 1, 1, 1, 1, 1, 1, 1, 1, 1, 1,\n",
       "       1, 1, 1, 1, 1, 1, 1, 1, 1, 1, 1, 1, 1, 1, 1, 1, 1, 1, 1, 1, 1, 1, 1,\n",
       "       1, 1, 1, 1, 1, 1, 1, 1, 1, 1, 1, 1, 1, 1, 1, 1, 1, 1, 1, 1, 1, 1, 1,\n",
       "       1, 1, 1, 1, 1, 1, 1, 1, 1, 1, 1, 1, 1, 1, 1, 1, 1, 1, 1, 1, 1, 1, 1,\n",
       "       1, 1, 1, 1, 1, 1, 1, 1, 1, 1, 1, 1, 1, 1, 1, 1, 1, 1, 1, 1, 1, 1, 1,\n",
       "       1, 1, 1, 1, 1, 1, 1, 1, 1, 1, 1, 1, 1, 1, 1, 1, 1, 1, 1, 1, 1, 1, 1,\n",
       "       1, 1, 1, 1, 1, 1, 1, 1, 1, 1, 1, 1, 1, 1, 1, 1, 1, 1, 1, 1, 1, 1, 1,\n",
       "       1, 1, 1, 1, 1, 1, 1, 1, 1, 1, 1, 1, 1, 1, 1, 1, 1, 1, 1, 1, 1, 1, 1,\n",
       "       1, 1, 1, 1, 1, 1, 1, 1, 1, 1, 1, 1, 1, 1, 1, 1, 1, 1, 1, 1])"
      ]
     },
     "execution_count": 41,
     "metadata": {},
     "output_type": "execute_result"
    }
   ],
   "source": [
    "# every year is there- no gaps bigger than 1\n",
    "np.diff(np.array(sorted(list(zip(*cur.execute(\"select distinct year from votes\").fetchall()))[0])))"
   ]
  },
  {
   "cell_type": "markdown",
   "metadata": {},
   "source": [
    "# Create indices for fast future queries"
   ]
  },
  {
   "cell_type": "code",
   "execution_count": null,
   "metadata": {
    "collapsed": true
   },
   "outputs": [],
   "source": [
    "# indices for fast queries\n",
    "for time_col in ['year','quarter','month']:\n",
    "    cur.execute(\"create index vote_{0} on votes({0},location)\".format(time_col))\n",
    "    con.commit()"
   ]
  },
  {
   "cell_type": "markdown",
   "metadata": {},
   "source": [
    "# That's all folks!"
   ]
  },
  {
   "cell_type": "code",
   "execution_count": 42,
   "metadata": {
    "collapsed": true
   },
   "outputs": [],
   "source": [
    "con.close()"
   ]
  }
 ],
 "metadata": {
  "kernelspec": {
   "display_name": "Python 3",
   "language": "python",
   "name": "python3"
  },
  "language_info": {
   "codemirror_mode": {
    "name": "ipython",
    "version": 3
   },
   "file_extension": ".py",
   "mimetype": "text/x-python",
   "name": "python",
   "nbconvert_exporter": "python",
   "pygments_lexer": "ipython3",
   "version": "3.5.1"
  }
 },
 "nbformat": 4,
 "nbformat_minor": 0
}
